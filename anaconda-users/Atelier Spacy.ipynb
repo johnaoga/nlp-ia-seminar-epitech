{
 "cells": [
  {
   "cell_type": "markdown",
   "id": "00e7dd84",
   "metadata": {},
   "source": [
    "# Spacy for Name Entity Recognition\n",
    "\n",
    "## John Aoga"
   ]
  },
  {
   "cell_type": "markdown",
   "id": "e6ee68d5",
   "metadata": {},
   "source": [
    "# Introduction\n",
    "\n",
    "In this project we'll learn how to use Spacy to do **NER**.\n",
    "\n",
    "NER standing for Named Entity Recognition is a proccess of identifying entity such as date, mail, person name, in a text.\n",
    "\n",
    "\n",
    "[Spacy](https://spacy.io/usage) is the python module/library we'll use to do it here."
   ]
  },
  {
   "cell_type": "markdown",
   "id": "385b6bbc",
   "metadata": {},
   "source": [
    "# Installing Spacy"
   ]
  },
  {
   "cell_type": "code",
   "execution_count": null,
   "id": "4c795159",
   "metadata": {},
   "outputs": [],
   "source": [
    "!pip install spacy"
   ]
  },
  {
   "cell_type": "code",
   "execution_count": null,
   "id": "0081c926",
   "metadata": {},
   "outputs": [],
   "source": [
    "!python -m spacy download en_core_web_sm"
   ]
  },
  {
   "cell_type": "markdown",
   "id": "26324036",
   "metadata": {},
   "source": [
    "# Loading Spacy"
   ]
  },
  {
   "cell_type": "code",
   "execution_count": null,
   "id": "53d71cad",
   "metadata": {},
   "outputs": [],
   "source": [
    "import spacy"
   ]
  },
  {
   "cell_type": "markdown",
   "id": "4679c7d2",
   "metadata": {},
   "source": [
    "# Loading the Web English Small model and Text"
   ]
  },
  {
   "cell_type": "code",
   "execution_count": null,
   "id": "d349a0ae",
   "metadata": {},
   "outputs": [],
   "source": [
    "nlp = spacy.load(\"en_core_web_sm\")"
   ]
  },
  {
   "cell_type": "code",
   "execution_count": null,
   "id": "0bf073b0",
   "metadata": {},
   "outputs": [],
   "source": [
    "text = \"\"\"\n",
    "Artificial intelligence (AI) is intelligence demonstrated by machines, as opposed to natural intelligence displayed by animals including humans. Leading AI textbooks define the field as the study of \"intelligent agents\": any system that perceives its environment and takes actions that maximize its chance of achieving its goals.[a] Some popular accounts use the term \"artificial intelligence\" to describe machines that mimic \"cognitive\" functions that humans associate with the human mind, such as \"learning\" and \"problem solving\", however, this definition is rejected by major AI researchers.[b]\n",
    "\n",
    "AI applications include advanced web search engines (e.g., Google), recommendation systems (used by YouTube, Amazon and Netflix), understanding human speech (such as Siri and Alexa), self-driving cars (e.g., Tesla), automated decision-making and competing at the highest level in strategic game systems (such as chess and Go).[2][citation needed] As machines become increasingly capable, tasks considered to require \"intelligence\" are often removed from the definition of AI, a phenomenon known as the AI effect.[3] For instance, optical character recognition is frequently excluded from things considered to be AI,[4] having become a routine technology.[5]\n",
    "\n",
    "Artificial intelligence was founded as an academic discipline in 1956, and in the years since has experienced several waves of optimism,[6][7] followed by disappointment and the loss of funding (known as an \"AI winter\"),[8][9] followed by new approaches, success and renewed funding.[7][10] AI research has tried and discarded many different approaches since its founding, including simulating the brain, modeling human problem solving, formal logic, large databases of knowledge and imitating animal behavior. In the first decades of the 21st century, highly mathematical statistical machine learning has dominated the field, and this technique has proved highly successful, helping to solve many challenging problems throughout industry and academia.[11][10]\n",
    "\"\"\""
   ]
  },
  {
   "cell_type": "code",
   "execution_count": null,
   "id": "47dba94d",
   "metadata": {},
   "outputs": [],
   "source": [
    "doc = nlp(text)"
   ]
  },
  {
   "cell_type": "code",
   "execution_count": null,
   "id": "a411ab2e",
   "metadata": {},
   "outputs": [],
   "source": [
    "print(len(doc))\n",
    "print(len(text))"
   ]
  },
  {
   "cell_type": "markdown",
   "id": "8fd4dcf1",
   "metadata": {},
   "source": [
    "# `Doc` structure\n",
    "\n",
    "![Alt](http://spacy.pythonhumanities.com/_images/spacy_containers.png)"
   ]
  },
  {
   "cell_type": "code",
   "execution_count": null,
   "id": "8a2d66af",
   "metadata": {},
   "outputs": [],
   "source": [
    "for token in text:\n",
    "#for token in doc:\n",
    "    print(token)"
   ]
  },
  {
   "cell_type": "code",
   "execution_count": null,
   "id": "17f0c52b",
   "metadata": {},
   "outputs": [],
   "source": [
    "#sentence1 = doc.sents\n",
    "sentence1 = list(doc.sents)[0] \n",
    "print(sentence1)"
   ]
  },
  {
   "cell_type": "code",
   "execution_count": null,
   "id": "5e5adfe2",
   "metadata": {},
   "outputs": [],
   "source": [
    "token8 = sentence1[7]\n",
    "print(token8)\n",
    "print(token8.lang)\n",
    "#print(token8.lang_)\n",
    "print(token8.text)\n",
    "print(token8.head)\n",
    "print(token8.right_edge)\n",
    "print(token8.left_edge)\n",
    "print(token8.ent_type)\n",
    "print(token8.morph)\n",
    "print(token8.pos_)\n",
    "print(token8.dep_)"
   ]
  },
  {
   "cell_type": "code",
   "execution_count": null,
   "id": "d31b64e3",
   "metadata": {},
   "outputs": [],
   "source": [
    "for token in sentence1:\n",
    "    print (token.text, token.pos_, token.dep_)"
   ]
  },
  {
   "cell_type": "code",
   "execution_count": null,
   "id": "7d4c5dfc",
   "metadata": {},
   "outputs": [],
   "source": [
    "for sent in doc.sents:\n",
    "    print(sent)"
   ]
  },
  {
   "cell_type": "code",
   "execution_count": null,
   "id": "57c8ceba",
   "metadata": {},
   "outputs": [],
   "source": [
    "from spacy import displacy\n",
    "displacy.render(sentence1, style=\"dep\")"
   ]
  },
  {
   "cell_type": "code",
   "execution_count": null,
   "id": "720bcf57",
   "metadata": {
    "scrolled": true
   },
   "outputs": [],
   "source": [
    "for ent in doc.ents:\n",
    "    print(ent, ent.label_)"
   ]
  },
  {
   "cell_type": "code",
   "execution_count": null,
   "id": "d2becfbd",
   "metadata": {},
   "outputs": [],
   "source": [
    "displacy.render(doc, style=\"ent\")"
   ]
  },
  {
   "cell_type": "markdown",
   "id": "d7431a3f",
   "metadata": {},
   "source": [
    "# Reference\n",
    "\n",
    "- [Tutorial to learn Spacy](http://spacy.pythonhumanities.com/intro.html)\n",
    "\n",
    "## Other Great Tools\n",
    "\n",
    "- [NLTK](http://spacy.pythonhumanities.com/intro.html)"
   ]
  },
  {
   "cell_type": "code",
   "execution_count": null,
   "id": "4f35754b",
   "metadata": {},
   "outputs": [],
   "source": []
  }
 ],
 "metadata": {
  "kernelspec": {
   "display_name": "Python 3",
   "language": "python",
   "name": "python3"
  },
  "language_info": {
   "codemirror_mode": {
    "name": "ipython",
    "version": 3
   },
   "file_extension": ".py",
   "mimetype": "text/x-python",
   "name": "python",
   "nbconvert_exporter": "python",
   "pygments_lexer": "ipython3",
   "version": "3.8.8"
  }
 },
 "nbformat": 4,
 "nbformat_minor": 5
}
