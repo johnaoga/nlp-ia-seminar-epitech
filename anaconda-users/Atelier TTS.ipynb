{
 "cells": [
  {
   "cell_type": "code",
   "execution_count": null,
   "id": "eb3af976",
   "metadata": {},
   "outputs": [],
   "source": [
    "!pip install pyttsx3"
   ]
  },
  {
   "cell_type": "markdown",
   "id": "aad5dd94",
   "metadata": {},
   "source": [
    "# Loading"
   ]
  },
  {
   "cell_type": "code",
   "execution_count": null,
   "id": "c4bf2684",
   "metadata": {},
   "outputs": [],
   "source": [
    "import pyttsx3"
   ]
  },
  {
   "cell_type": "markdown",
   "id": "0ae5a8d0",
   "metadata": {},
   "source": [
    "# First test"
   ]
  },
  {
   "cell_type": "code",
   "execution_count": null,
   "id": "4647e8f8",
   "metadata": {},
   "outputs": [],
   "source": [
    "engine = pyttsx3.init()\n",
    "engine.say(\"My name is John and I'm here to make my computer talk\")\n",
    "engine.runAndWait()"
   ]
  },
  {
   "cell_type": "markdown",
   "id": "8df8e9fc",
   "metadata": {},
   "source": [
    "# Single line usage with speak function with default options\n"
   ]
  },
  {
   "cell_type": "code",
   "execution_count": null,
   "id": "16959af8",
   "metadata": {},
   "outputs": [],
   "source": [
    "pyttsx3.speak(\"I will speak this text\")"
   ]
  },
  {
   "cell_type": "markdown",
   "id": "31ac435a",
   "metadata": {},
   "source": [
    "# Changing parameters: Voice, Rate and Volume"
   ]
  },
  {
   "cell_type": "code",
   "execution_count": null,
   "id": "55e65459",
   "metadata": {},
   "outputs": [],
   "source": [
    "engine = pyttsx3.init() # object creation\n",
    "\n",
    "\"\"\" RATE\"\"\"\n",
    "rate = engine.getProperty('rate')   # getting details of current speaking rate\n",
    "print (rate)                        #printing current voice rate\n",
    "engine.setProperty('rate', 125)     # setting up new voice rate\n",
    "\n",
    "engine.say(\"My name is John and I'm here to make my computer talk\")\n",
    "engine.runAndWait()"
   ]
  },
  {
   "cell_type": "code",
   "execution_count": null,
   "id": "5ef158d1",
   "metadata": {},
   "outputs": [],
   "source": [
    "\"\"\"VOLUME\"\"\"\n",
    "volume = engine.getProperty('volume')   #getting to know current volume level (min=0 and max=1)\n",
    "print (volume)                          #printing current volume level\n",
    "engine.setProperty('volume',1.0)    # setting up volume level  between 0 and 1\n",
    "\n",
    "engine.say(\"My name is John and I'm here to make my computer talk\")\n",
    "engine.runAndWait()"
   ]
  },
  {
   "cell_type": "code",
   "execution_count": null,
   "id": "08dbcf5f",
   "metadata": {},
   "outputs": [],
   "source": [
    "\"\"\"VOICE\"\"\"\n",
    "voices = engine.getProperty('voices')       #getting details of current voice\n",
    "#engine.setProperty('voice', voices[0].id)  #changing index, changes voices. o for male\n",
    "engine.setProperty('voice', voices[1].id)   #changing index, changes voices. 1 for female\n",
    "\n",
    "engine.say(\"Hello World!\")\n",
    "engine.say('My name is John and I\\'m here to make my computer talk ' + str(rate))\n",
    "engine.runAndWait()\n",
    "engine.stop()\n",
    "\n",
    "\n"
   ]
  },
  {
   "cell_type": "code",
   "execution_count": null,
   "id": "557e98ad",
   "metadata": {},
   "outputs": [],
   "source": [
    "\"\"\"Saving Voice to a file\"\"\"\n",
    "# On linux make sure that 'espeak' and 'ffmpeg' are installed\n",
    "engine.save_to_file('My name is John and I\\'m here to make my computer talk', 'test.mp3')\n",
    "engine.runAndWait()"
   ]
  },
  {
   "cell_type": "code",
   "execution_count": null,
   "id": "2fd7d5c4",
   "metadata": {},
   "outputs": [],
   "source": []
  }
 ],
 "metadata": {
  "kernelspec": {
   "display_name": "Python 3",
   "language": "python",
   "name": "python3"
  },
  "language_info": {
   "codemirror_mode": {
    "name": "ipython",
    "version": 3
   },
   "file_extension": ".py",
   "mimetype": "text/x-python",
   "name": "python",
   "nbconvert_exporter": "python",
   "pygments_lexer": "ipython3",
   "version": "3.8.8"
  }
 },
 "nbformat": 4,
 "nbformat_minor": 5
}
